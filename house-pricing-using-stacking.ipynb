{
 "cells": [
  {
   "cell_type": "code",
   "execution_count": 1,
   "id": "a731cc4e",
   "metadata": {
    "_cell_guid": "b1076dfc-b9ad-4769-8c92-a6c4dae69d19",
    "_uuid": "8f2839f25d086af736a60e9eeb907d3b93b6e0e5",
    "execution": {
     "iopub.execute_input": "2022-03-02T17:18:57.215677Z",
     "iopub.status.busy": "2022-03-02T17:18:57.211448Z",
     "iopub.status.idle": "2022-03-02T17:18:58.382982Z",
     "shell.execute_reply": "2022-03-02T17:18:58.383519Z",
     "shell.execute_reply.started": "2022-03-02T16:54:32.775864Z"
    },
    "papermill": {
     "duration": 1.276125,
     "end_time": "2022-03-02T17:18:58.383871",
     "exception": false,
     "start_time": "2022-03-02T17:18:57.107746",
     "status": "completed"
    },
    "tags": []
   },
   "outputs": [
    {
     "name": "stdout",
     "output_type": "stream",
     "text": [
      "/kaggle/input/house-prices-advanced-regression-techniques/sample_submission.csv\n",
      "/kaggle/input/house-prices-advanced-regression-techniques/data_description.txt\n",
      "/kaggle/input/house-prices-advanced-regression-techniques/train.csv\n",
      "/kaggle/input/house-prices-advanced-regression-techniques/test.csv\n"
     ]
    }
   ],
   "source": [
    "# This Python 3 environment comes with many helpful analytics libraries installed\n",
    "# It is defined by the kaggle/python Docker image: https://github.com/kaggle/docker-python\n",
    "# For example, here's several helpful packages to load\n",
    "\n",
    "import numpy as np # linear algebra\n",
    "import pandas as pd # data processing, CSV file I/O (e.g. pd.read_csv)\n",
    "import seaborn as sns\n",
    "import matplotlib.pyplot as plt\n",
    "# Input data files are available in the read-only \"../input/\" directory\n",
    "# For example, running this (by clicking run or pressing Shift+Enter) will list all files under the input directory\n",
    "\n",
    "import os\n",
    "for dirname, _, filenames in os.walk('/kaggle/input'):\n",
    "    for filename in filenames:\n",
    "        print(os.path.join(dirname, filename))\n",
    "\n",
    "# You can write up to 20GB to the current directory (/kaggle/working/) that gets preserved as output when you create a version using \"Save & Run All\" \n",
    "# You can also write temporary files to /kaggle/temp/, but they won't be saved outside of the current session"
   ]
  },
  {
   "cell_type": "markdown",
   "id": "b01854ee",
   "metadata": {
    "papermill": {
     "duration": 0.088797,
     "end_time": "2022-03-02T17:18:58.562807",
     "exception": false,
     "start_time": "2022-03-02T17:18:58.474010",
     "status": "completed"
    },
    "tags": []
   },
   "source": [
    "let's import and put the train and test datasets in  pandas dataframe"
   ]
  },
  {
   "cell_type": "code",
   "execution_count": 2,
   "id": "cf0874cb",
   "metadata": {
    "execution": {
     "iopub.execute_input": "2022-03-02T17:18:58.745903Z",
     "iopub.status.busy": "2022-03-02T17:18:58.745235Z",
     "iopub.status.idle": "2022-03-02T17:18:58.864109Z",
     "shell.execute_reply": "2022-03-02T17:18:58.864658Z",
     "shell.execute_reply.started": "2022-03-02T16:55:26.657982Z"
    },
    "papermill": {
     "duration": 0.214413,
     "end_time": "2022-03-02T17:18:58.864858",
     "exception": false,
     "start_time": "2022-03-02T17:18:58.650445",
     "status": "completed"
    },
    "tags": []
   },
   "outputs": [
    {
     "data": {
      "text/html": [
       "<div>\n",
       "<style scoped>\n",
       "    .dataframe tbody tr th:only-of-type {\n",
       "        vertical-align: middle;\n",
       "    }\n",
       "\n",
       "    .dataframe tbody tr th {\n",
       "        vertical-align: top;\n",
       "    }\n",
       "\n",
       "    .dataframe thead th {\n",
       "        text-align: right;\n",
       "    }\n",
       "</style>\n",
       "<table border=\"1\" class=\"dataframe\">\n",
       "  <thead>\n",
       "    <tr style=\"text-align: right;\">\n",
       "      <th></th>\n",
       "      <th>Id</th>\n",
       "      <th>MSSubClass</th>\n",
       "      <th>MSZoning</th>\n",
       "      <th>LotFrontage</th>\n",
       "      <th>LotArea</th>\n",
       "      <th>Street</th>\n",
       "      <th>Alley</th>\n",
       "      <th>LotShape</th>\n",
       "      <th>LandContour</th>\n",
       "      <th>Utilities</th>\n",
       "      <th>...</th>\n",
       "      <th>PoolArea</th>\n",
       "      <th>PoolQC</th>\n",
       "      <th>Fence</th>\n",
       "      <th>MiscFeature</th>\n",
       "      <th>MiscVal</th>\n",
       "      <th>MoSold</th>\n",
       "      <th>YrSold</th>\n",
       "      <th>SaleType</th>\n",
       "      <th>SaleCondition</th>\n",
       "      <th>SalePrice</th>\n",
       "    </tr>\n",
       "  </thead>\n",
       "  <tbody>\n",
       "    <tr>\n",
       "      <th>0</th>\n",
       "      <td>1</td>\n",
       "      <td>60</td>\n",
       "      <td>RL</td>\n",
       "      <td>65.0</td>\n",
       "      <td>8450</td>\n",
       "      <td>Pave</td>\n",
       "      <td>NaN</td>\n",
       "      <td>Reg</td>\n",
       "      <td>Lvl</td>\n",
       "      <td>AllPub</td>\n",
       "      <td>...</td>\n",
       "      <td>0</td>\n",
       "      <td>NaN</td>\n",
       "      <td>NaN</td>\n",
       "      <td>NaN</td>\n",
       "      <td>0</td>\n",
       "      <td>2</td>\n",
       "      <td>2008</td>\n",
       "      <td>WD</td>\n",
       "      <td>Normal</td>\n",
       "      <td>208500</td>\n",
       "    </tr>\n",
       "    <tr>\n",
       "      <th>1</th>\n",
       "      <td>2</td>\n",
       "      <td>20</td>\n",
       "      <td>RL</td>\n",
       "      <td>80.0</td>\n",
       "      <td>9600</td>\n",
       "      <td>Pave</td>\n",
       "      <td>NaN</td>\n",
       "      <td>Reg</td>\n",
       "      <td>Lvl</td>\n",
       "      <td>AllPub</td>\n",
       "      <td>...</td>\n",
       "      <td>0</td>\n",
       "      <td>NaN</td>\n",
       "      <td>NaN</td>\n",
       "      <td>NaN</td>\n",
       "      <td>0</td>\n",
       "      <td>5</td>\n",
       "      <td>2007</td>\n",
       "      <td>WD</td>\n",
       "      <td>Normal</td>\n",
       "      <td>181500</td>\n",
       "    </tr>\n",
       "    <tr>\n",
       "      <th>2</th>\n",
       "      <td>3</td>\n",
       "      <td>60</td>\n",
       "      <td>RL</td>\n",
       "      <td>68.0</td>\n",
       "      <td>11250</td>\n",
       "      <td>Pave</td>\n",
       "      <td>NaN</td>\n",
       "      <td>IR1</td>\n",
       "      <td>Lvl</td>\n",
       "      <td>AllPub</td>\n",
       "      <td>...</td>\n",
       "      <td>0</td>\n",
       "      <td>NaN</td>\n",
       "      <td>NaN</td>\n",
       "      <td>NaN</td>\n",
       "      <td>0</td>\n",
       "      <td>9</td>\n",
       "      <td>2008</td>\n",
       "      <td>WD</td>\n",
       "      <td>Normal</td>\n",
       "      <td>223500</td>\n",
       "    </tr>\n",
       "    <tr>\n",
       "      <th>3</th>\n",
       "      <td>4</td>\n",
       "      <td>70</td>\n",
       "      <td>RL</td>\n",
       "      <td>60.0</td>\n",
       "      <td>9550</td>\n",
       "      <td>Pave</td>\n",
       "      <td>NaN</td>\n",
       "      <td>IR1</td>\n",
       "      <td>Lvl</td>\n",
       "      <td>AllPub</td>\n",
       "      <td>...</td>\n",
       "      <td>0</td>\n",
       "      <td>NaN</td>\n",
       "      <td>NaN</td>\n",
       "      <td>NaN</td>\n",
       "      <td>0</td>\n",
       "      <td>2</td>\n",
       "      <td>2006</td>\n",
       "      <td>WD</td>\n",
       "      <td>Abnorml</td>\n",
       "      <td>140000</td>\n",
       "    </tr>\n",
       "    <tr>\n",
       "      <th>4</th>\n",
       "      <td>5</td>\n",
       "      <td>60</td>\n",
       "      <td>RL</td>\n",
       "      <td>84.0</td>\n",
       "      <td>14260</td>\n",
       "      <td>Pave</td>\n",
       "      <td>NaN</td>\n",
       "      <td>IR1</td>\n",
       "      <td>Lvl</td>\n",
       "      <td>AllPub</td>\n",
       "      <td>...</td>\n",
       "      <td>0</td>\n",
       "      <td>NaN</td>\n",
       "      <td>NaN</td>\n",
       "      <td>NaN</td>\n",
       "      <td>0</td>\n",
       "      <td>12</td>\n",
       "      <td>2008</td>\n",
       "      <td>WD</td>\n",
       "      <td>Normal</td>\n",
       "      <td>250000</td>\n",
       "    </tr>\n",
       "  </tbody>\n",
       "</table>\n",
       "<p>5 rows × 81 columns</p>\n",
       "</div>"
      ],
      "text/plain": [
       "   Id  MSSubClass MSZoning  LotFrontage  LotArea Street Alley LotShape  \\\n",
       "0   1          60       RL         65.0     8450   Pave   NaN      Reg   \n",
       "1   2          20       RL         80.0     9600   Pave   NaN      Reg   \n",
       "2   3          60       RL         68.0    11250   Pave   NaN      IR1   \n",
       "3   4          70       RL         60.0     9550   Pave   NaN      IR1   \n",
       "4   5          60       RL         84.0    14260   Pave   NaN      IR1   \n",
       "\n",
       "  LandContour Utilities  ... PoolArea PoolQC Fence MiscFeature MiscVal MoSold  \\\n",
       "0         Lvl    AllPub  ...        0    NaN   NaN         NaN       0      2   \n",
       "1         Lvl    AllPub  ...        0    NaN   NaN         NaN       0      5   \n",
       "2         Lvl    AllPub  ...        0    NaN   NaN         NaN       0      9   \n",
       "3         Lvl    AllPub  ...        0    NaN   NaN         NaN       0      2   \n",
       "4         Lvl    AllPub  ...        0    NaN   NaN         NaN       0     12   \n",
       "\n",
       "  YrSold  SaleType  SaleCondition  SalePrice  \n",
       "0   2008        WD         Normal     208500  \n",
       "1   2007        WD         Normal     181500  \n",
       "2   2008        WD         Normal     223500  \n",
       "3   2006        WD        Abnorml     140000  \n",
       "4   2008        WD         Normal     250000  \n",
       "\n",
       "[5 rows x 81 columns]"
      ]
     },
     "execution_count": 2,
     "metadata": {},
     "output_type": "execute_result"
    }
   ],
   "source": [
    "train_df = pd.read_csv('/kaggle/input/house-prices-advanced-regression-techniques/train.csv')\n",
    "test_df = pd.read_csv('/kaggle/input/house-prices-advanced-regression-techniques/test.csv')\n",
    "train_df.head()"
   ]
  },
  {
   "cell_type": "markdown",
   "id": "9625cf3a",
   "metadata": {
    "papermill": {
     "duration": 0.088059,
     "end_time": "2022-03-02T17:18:59.041043",
     "exception": false,
     "start_time": "2022-03-02T17:18:58.952984",
     "status": "completed"
    },
    "tags": []
   },
   "source": [
    "check the numbers of samples and features"
   ]
  },
  {
   "cell_type": "code",
   "execution_count": 3,
   "id": "01c31f17",
   "metadata": {
    "execution": {
     "iopub.execute_input": "2022-03-02T17:18:59.229473Z",
     "iopub.status.busy": "2022-03-02T17:18:59.226557Z",
     "iopub.status.idle": "2022-03-02T17:18:59.237876Z",
     "shell.execute_reply": "2022-03-02T17:18:59.237330Z",
     "shell.execute_reply.started": "2022-03-02T16:55:29.397550Z"
    },
    "papermill": {
     "duration": 0.109752,
     "end_time": "2022-03-02T17:18:59.238016",
     "exception": false,
     "start_time": "2022-03-02T17:18:59.128264",
     "status": "completed"
    },
    "tags": []
   },
   "outputs": [
    {
     "name": "stdout",
     "output_type": "stream",
     "text": [
      "training dataset shape before dropping Id column: (1460, 81)\n",
      "testing dataset shape before dropping Id column: (1459, 80)\n",
      "training dataset shape after dropping Id column: (1460, 80)\n",
      "testing dataset shape after dropping Id column: (1459, 79)\n"
     ]
    }
   ],
   "source": [
    "print(f'training dataset shape before dropping Id column: {train_df.shape}')\n",
    "print(f'testing dataset shape before dropping Id column: {test_df.shape}')\n",
    "\n",
    "train_Id = train_df['Id']\n",
    "test_Id = test_df['Id']\n",
    "\n",
    "train_df.drop(columns=['Id'], inplace = True)\n",
    "test_df.drop(columns=['Id'], inplace = True)\n",
    "\n",
    "print(f'training dataset shape after dropping Id column: {train_df.shape}')\n",
    "print(f'testing dataset shape after dropping Id column: {test_df.shape}')"
   ]
  },
  {
   "cell_type": "markdown",
   "id": "5ecb69f4",
   "metadata": {
    "papermill": {
     "duration": 0.088287,
     "end_time": "2022-03-02T17:18:59.415088",
     "exception": false,
     "start_time": "2022-03-02T17:18:59.326801",
     "status": "completed"
    },
    "tags": []
   },
   "source": [
    "# Data Processing\n",
    "\n",
    "**Outliers**\n",
    "\n",
    "Ames Housing Data has outliers present in the training data\n",
    "\n",
    "let's explore these outliers"
   ]
  },
  {
   "cell_type": "code",
   "execution_count": 4,
   "id": "65342bcf",
   "metadata": {
    "execution": {
     "iopub.execute_input": "2022-03-02T17:18:59.613347Z",
     "iopub.status.busy": "2022-03-02T17:18:59.612625Z",
     "iopub.status.idle": "2022-03-02T17:18:59.886112Z",
     "shell.execute_reply": "2022-03-02T17:18:59.886612Z",
     "shell.execute_reply.started": "2022-03-02T16:55:29.477530Z"
    },
    "papermill": {
     "duration": 0.384254,
     "end_time": "2022-03-02T17:18:59.886790",
     "exception": false,
     "start_time": "2022-03-02T17:18:59.502536",
     "status": "completed"
    },
    "tags": []
   },
   "outputs": [
    {
     "data": {
      "image/png": "[encoded data removed]",
      "text/plain": [
       "<Figure size 1080x432 with 1 Axes>"
      ]
     },
     "metadata": {
      "needs_background": "light"
     },
     "output_type": "display_data"
    }
   ],
   "source": [
    "plt.figure(figsize=(15,6))\n",
    "\n",
    "sns.scatterplot(x = train_df['GrLivArea'], y = train_df['SalePrice'])\n",
    "\n",
    "plt.xlabel(\"Living area\", fontsize = 15)\n",
    "plt.ylabel('Sale price', fontsize = 15)\n",
    "plt.title('Distribution of sold houses based on living area', fontsize = 15)\n",
    "\n",
    "plt.show()"
   ]
  },
  {
   "cell_type": "markdown",
   "id": "12f75fe3",
   "metadata": {
    "papermill": {
     "duration": 0.089767,
     "end_time": "2022-03-02T17:19:00.066026",
     "exception": false,
     "start_time": "2022-03-02T17:18:59.976259",
     "status": "completed"
    },
    "tags": []
   },
   "source": [
    "we can see at the bottom right two with extremely large GrLivArea that are of a low price. These values are huge oultliers (low sale price for huge living area), hence we can safely delete them"
   ]
  },
  {
   "cell_type": "code",
   "execution_count": 5,
   "id": "743b0e9a",
   "metadata": {
    "execution": {
     "iopub.execute_input": "2022-03-02T17:19:00.252488Z",
     "iopub.status.busy": "2022-03-02T17:19:00.251739Z",
     "iopub.status.idle": "2022-03-02T17:19:00.257209Z",
     "shell.execute_reply": "2022-03-02T17:19:00.257709Z",
     "shell.execute_reply.started": "2022-03-02T16:55:29.787439Z"
    },
    "papermill": {
     "duration": 0.103206,
     "end_time": "2022-03-02T17:19:00.257876",
     "exception": false,
     "start_time": "2022-03-02T17:19:00.154670",
     "status": "completed"
    },
    "tags": []
   },
   "outputs": [],
   "source": [
    "train_df = train_df.drop(train_df[(train_df['GrLivArea'] > 4000) & (train_df['SalePrice'] < 300000)].index)"
   ]
  },
  {
   "cell_type": "markdown",
   "id": "d41f1e21",
   "metadata": {
    "papermill": {
     "duration": 0.088672,
     "end_time": "2022-03-02T17:19:00.436079",
     "exception": false,
     "start_time": "2022-03-02T17:19:00.347407",
     "status": "completed"
    },
    "tags": []
   },
   "source": [
    "check the graphic again"
   ]
  },
  {
   "cell_type": "markdown",
   "id": "edb7c830",
   "metadata": {
    "papermill": {
     "duration": 0.088312,
     "end_time": "2022-03-02T17:19:00.613882",
     "exception": false,
     "start_time": "2022-03-02T17:19:00.525570",
     "status": "completed"
    },
    "tags": []
   },
   "source": [
    "Note : outliers removal is note always safe. We decided to delete these two as they are very huge and really bad (large area for very low price)\n",
    "\n",
    "There are probably others outliers in the training data. However, removing them all may affect badly our models in the future. That's why, instead of removing them all, we will just manage to make some of our models robust on them"
   ]
  },
  {
   "cell_type": "code",
   "execution_count": 6,
   "id": "791e53e1",
   "metadata": {
    "execution": {
     "iopub.execute_input": "2022-03-02T17:19:00.795580Z",
     "iopub.status.busy": "2022-03-02T17:19:00.794935Z",
     "iopub.status.idle": "2022-03-02T17:19:01.039518Z",
     "shell.execute_reply": "2022-03-02T17:19:01.039992Z",
     "shell.execute_reply.started": "2022-03-02T16:55:29.800947Z"
    },
    "papermill": {
     "duration": 0.337761,
     "end_time": "2022-03-02T17:19:01.040171",
     "exception": false,
     "start_time": "2022-03-02T17:19:00.702410",
     "status": "completed"
    },
    "tags": []
   },
   "outputs": [
    {
     "data": {
      "image/png": "[encoded data removed]",
      "text/plain": [
       "<Figure size 1080x432 with 1 Axes>"
      ]
     },
     "metadata": {
      "needs_background": "light"
     },
     "output_type": "display_data"
    }
   ],
   "source": [
    "plt.figure(figsize=(15,6))\n",
    "\n",
    "sns.scatterplot(x = train_df['GrLivArea'], y = train_df['SalePrice'])\n",
    "\n",
    "plt.xlabel(\"Living area\", fontsize = 15)\n",
    "plt.ylabel('Sale price', fontsize = 15)\n",
    "plt.title('Distribution of sold houses based on living area', fontsize = 15)\n",
    "\n",
    "plt.show()"
   ]
  },
  {
   "cell_type": "markdown",
   "id": "83e5cbfb",
   "metadata": {
    "papermill": {
     "duration": 0.089878,
     "end_time": "2022-03-02T17:19:01.222730",
     "exception": false,
     "start_time": "2022-03-02T17:19:01.132852",
     "status": "completed"
    },
    "tags": []
   },
   "source": [
    "**Target Variable**\n",
    "\n",
    "**SalePrice** is the variable we need to predict"
   ]
  },
  {
   "cell_type": "markdown",
   "id": "eaf54d5b",
   "metadata": {
    "papermill": {
     "duration": 0.091079,
     "end_time": "2022-03-02T17:19:01.406106",
     "exception": false,
     "start_time": "2022-03-02T17:19:01.315027",
     "status": "completed"
    },
    "tags": []
   },
   "source": [
    "the target variable is right skewed. As linear models love normally distributed data, we need to transform this variable and make it more normally distributed"
   ]
  },
  {
   "cell_type": "code",
   "execution_count": 7,
   "id": "0a85c411",
   "metadata": {
    "execution": {
     "iopub.execute_input": "2022-03-02T17:19:01.590412Z",
     "iopub.status.busy": "2022-03-02T17:19:01.589761Z",
     "iopub.status.idle": "2022-03-02T17:19:01.925599Z",
     "shell.execute_reply": "2022-03-02T17:19:01.925012Z",
     "shell.execute_reply.started": "2022-03-02T16:55:30.067606Z"
    },
    "papermill": {
     "duration": 0.429414,
     "end_time": "2022-03-02T17:19:01.925778",
     "exception": false,
     "start_time": "2022-03-02T17:19:01.496364",
     "status": "completed"
    },
    "tags": []
   },
   "outputs": [
    {
     "name": "stderr",
     "output_type": "stream",
     "text": [
      "/opt/conda/lib/python3.7/site-packages/seaborn/distributions.py:2619: FutureWarning: `distplot` is a deprecated function and will be removed in a future version. Please adapt your code to use either `displot` (a figure-level function with similar flexibility) or `histplot` (an axes-level function for histograms).\n",
      "  warnings.warn(msg, FutureWarning)\n"
     ]
    },
    {
     "data": {
      "image/png": "[encoded data removed]",
      "text/plain": [
       "<Figure size 936x432 with 1 Axes>"
      ]
     },
     "metadata": {
      "needs_background": "light"
     },
     "output_type": "display_data"
    }
   ],
   "source": [
    "plt.figure(figsize=(13,6))\n",
    "\n",
    "sns.distplot(train_df['SalePrice'])\n",
    "\n",
    "plt.show()"
   ]
  },
  {
   "cell_type": "markdown",
   "id": "77d45f7c",
   "metadata": {
    "papermill": {
     "duration": 0.094903,
     "end_time": "2022-03-02T17:19:02.114355",
     "exception": false,
     "start_time": "2022-03-02T17:19:02.019452",
     "status": "completed"
    },
    "tags": []
   },
   "source": [
    "we will use the numpy fuction log1p which  applies log(1+x) to all elements of the column"
   ]
  },
  {
   "cell_type": "code",
   "execution_count": 8,
   "id": "5b2d9cb8",
   "metadata": {
    "execution": {
     "iopub.execute_input": "2022-03-02T17:19:02.309798Z",
     "iopub.status.busy": "2022-03-02T17:19:02.308986Z",
     "iopub.status.idle": "2022-03-02T17:19:02.664972Z",
     "shell.execute_reply": "2022-03-02T17:19:02.664340Z",
     "shell.execute_reply.started": "2022-03-02T16:55:30.405124Z"
    },
    "papermill": {
     "duration": 0.455761,
     "end_time": "2022-03-02T17:19:02.665135",
     "exception": false,
     "start_time": "2022-03-02T17:19:02.209374",
     "status": "completed"
    },
    "tags": []
   },
   "outputs": [
    {
     "data": {
      "text/plain": [
       "<Figure size 936x432 with 0 Axes>"
      ]
     },
     "metadata": {},
     "output_type": "display_data"
    },
    {
     "data": {
      "image/png": "[encoded data removed]",
      "text/plain": [
       "<Figure size 360x360 with 1 Axes>"
      ]
     },
     "metadata": {
      "needs_background": "light"
     },
     "output_type": "display_data"
    }
   ],
   "source": [
    "train_df['SalePrice'] = np.log1p(train_df['SalePrice'])\n",
    "\n",
    "plt.figure(figsize=(13,6))\n",
    "\n",
    "sns.displot(train_df['SalePrice'], kde = True)\n",
    "\n",
    "plt.show()"
   ]
  },
  {
   "cell_type": "markdown",
   "id": "44c01613",
   "metadata": {
    "papermill": {
     "duration": 0.095122,
     "end_time": "2022-03-02T17:19:02.855676",
     "exception": false,
     "start_time": "2022-03-02T17:19:02.760554",
     "status": "completed"
    },
    "tags": []
   },
   "source": [
    "the skew seems now corrected and the data appears more normally distributed"
   ]
  },
  {
   "cell_type": "markdown",
   "id": "5448b884",
   "metadata": {
    "papermill": {
     "duration": 0.094807,
     "end_time": "2022-03-02T17:19:03.045054",
     "exception": false,
     "start_time": "2022-03-02T17:19:02.950247",
     "status": "completed"
    },
    "tags": []
   },
   "source": [
    "**Features engineering**\n",
    "\n",
    "let's start from missing data of training data and test data\n",
    "\n",
    "training data missing values"
   ]
  },
  {
   "cell_type": "code",
   "execution_count": 9,
   "id": "e7a83711",
   "metadata": {
    "execution": {
     "iopub.execute_input": "2022-03-02T17:19:03.254092Z",
     "iopub.status.busy": "2022-03-02T17:19:03.253415Z",
     "iopub.status.idle": "2022-03-02T17:19:03.263170Z",
     "shell.execute_reply": "2022-03-02T17:19:03.262616Z",
     "shell.execute_reply.started": "2022-03-02T16:55:30.786220Z"
    },
    "papermill": {
     "duration": 0.122928,
     "end_time": "2022-03-02T17:19:03.263311",
     "exception": false,
     "start_time": "2022-03-02T17:19:03.140383",
     "status": "completed"
    },
    "tags": []
   },
   "outputs": [
    {
     "data": {
      "text/plain": [
       "PoolQC          99.588477\n",
       "MiscFeature     96.296296\n",
       "Alley           93.758573\n",
       "Fence           80.727023\n",
       "FireplaceQu     47.325103\n",
       "LotFrontage     17.764060\n",
       "GarageYrBlt      5.555556\n",
       "GarageCond       5.555556\n",
       "GarageType       5.555556\n",
       "GarageFinish     5.555556\n",
       "GarageQual       5.555556\n",
       "BsmtExposure     2.606310\n",
       "BsmtFinType2     2.606310\n",
       "BsmtCond         2.537723\n",
       "BsmtQual         2.537723\n",
       "BsmtFinType1     2.537723\n",
       "MasVnrArea       0.548697\n",
       "MasVnrType       0.548697\n",
       "Electrical       0.068587\n",
       "dtype: float64"
      ]
     },
     "execution_count": 9,
     "metadata": {},
     "output_type": "execute_result"
    }
   ],
   "source": [
    "null_train = train_df.isnull().sum().sort_values(ascending = False) / len(train_df) * 100\n",
    "ntr = null_train.head(19)\n",
    "ntr"
   ]
  },
  {
   "cell_type": "markdown",
   "id": "9fae7e85",
   "metadata": {
    "papermill": {
     "duration": 0.094171,
     "end_time": "2022-03-02T17:19:03.451545",
     "exception": false,
     "start_time": "2022-03-02T17:19:03.357374",
     "status": "completed"
    },
    "tags": []
   },
   "source": [
    "test data missing values"
   ]
  },
  {
   "cell_type": "code",
   "execution_count": 10,
   "id": "fd1f00f4",
   "metadata": {
    "execution": {
     "iopub.execute_input": "2022-03-02T17:19:03.653221Z",
     "iopub.status.busy": "2022-03-02T17:19:03.652548Z",
     "iopub.status.idle": "2022-03-02T17:19:03.664100Z",
     "shell.execute_reply": "2022-03-02T17:19:03.663449Z",
     "shell.execute_reply.started": "2022-03-02T16:55:30.806913Z"
    },
    "papermill": {
     "duration": 0.118659,
     "end_time": "2022-03-02T17:19:03.664258",
     "exception": false,
     "start_time": "2022-03-02T17:19:03.545599",
     "status": "completed"
    },
    "tags": []
   },
   "outputs": [
    {
     "data": {
      "text/plain": [
       "PoolQC          99.794380\n",
       "MiscFeature     96.504455\n",
       "Alley           92.666210\n",
       "Fence           80.123372\n",
       "FireplaceQu     50.034270\n",
       "LotFrontage     15.558602\n",
       "GarageYrBlt      5.346127\n",
       "GarageFinish     5.346127\n",
       "GarageQual       5.346127\n",
       "GarageCond       5.346127\n",
       "GarageType       5.209047\n",
       "BsmtCond         3.084304\n",
       "BsmtExposure     3.015764\n",
       "BsmtQual         3.015764\n",
       "BsmtFinType2     2.878684\n",
       "BsmtFinType1     2.878684\n",
       "MasVnrType       1.096642\n",
       "MasVnrArea       1.028101\n",
       "MSZoning         0.274160\n",
       "Functional       0.137080\n",
       "BsmtHalfBath     0.137080\n",
       "BsmtFullBath     0.137080\n",
       "Utilities        0.137080\n",
       "KitchenQual      0.068540\n",
       "SaleType         0.068540\n",
       "BsmtFinSF1       0.068540\n",
       "GarageCars       0.068540\n",
       "BsmtUnfSF        0.068540\n",
       "TotalBsmtSF      0.068540\n",
       "Exterior2nd      0.068540\n",
       "Exterior1st      0.068540\n",
       "GarageArea       0.068540\n",
       "BsmtFinSF2       0.068540\n",
       "dtype: float64"
      ]
     },
     "execution_count": 10,
     "metadata": {},
     "output_type": "execute_result"
    }
   ],
   "source": [
    "null_test = test_df.isnull().sum().sort_values(ascending = False) / len(test_df) * 100\n",
    "nt = null_test.head(33)\n",
    "nt"
   ]
  },
  {
   "cell_type": "markdown",
   "id": "57cc6237",
   "metadata": {
    "papermill": {
     "duration": 0.094016,
     "end_time": "2022-03-02T17:19:03.852728",
     "exception": false,
     "start_time": "2022-03-02T17:19:03.758712",
     "status": "completed"
    },
    "tags": []
   },
   "source": [
    "let's visualize our missing data"
   ]
  },
  {
   "cell_type": "code",
   "execution_count": 11,
   "id": "8e881205",
   "metadata": {
    "execution": {
     "iopub.execute_input": "2022-03-02T17:19:04.089948Z",
     "iopub.status.busy": "2022-03-02T17:19:04.088055Z",
     "iopub.status.idle": "2022-03-02T17:19:04.387590Z",
     "shell.execute_reply": "2022-03-02T17:19:04.386697Z",
     "shell.execute_reply.started": "2022-03-02T16:55:30.857301Z"
    },
    "papermill": {
     "duration": 0.438634,
     "end_time": "2022-03-02T17:19:04.387733",
     "exception": false,
     "start_time": "2022-03-02T17:19:03.949099",
     "status": "completed"
    },
    "tags": []
   },
   "outputs": [
    {
     "data": {
      "image/png": "[encoded data removed]",
      "text/plain": [
       "<Figure size 1080x432 with 1 Axes>"
      ]
     },
     "metadata": {
      "needs_background": "light"
     },
     "output_type": "display_data"
    }
   ],
   "source": [
    "plt.figure(figsize = (15, 6))\n",
    "sns.barplot(x= ntr.index, y= ntr)\n",
    "\n",
    "plt.xticks(rotation = 90)\n",
    "plt.xlabel('Feature name', fontsize = 15)\n",
    "plt.ylabel('Percent of missing values', fontsize = 15)\n",
    "plt.title('Percent missing data by feature (training data)', fontsize = 15)\n",
    "\n",
    "plt.show()"
   ]
  },
  {
   "cell_type": "code",
   "execution_count": 12,
   "id": "3487ca47",
   "metadata": {
    "execution": {
     "iopub.execute_input": "2022-03-02T17:19:04.591129Z",
     "iopub.status.busy": "2022-03-02T17:19:04.590390Z",
     "iopub.status.idle": "2022-03-02T17:19:05.028688Z",
     "shell.execute_reply": "2022-03-02T17:19:05.028018Z",
     "shell.execute_reply.started": "2022-03-02T16:55:31.241688Z"
    },
    "papermill": {
     "duration": 0.545084,
     "end_time": "2022-03-02T17:19:05.028848",
     "exception": false,
     "start_time": "2022-03-02T17:19:04.483764",
     "status": "completed"
    },
    "tags": []
   },
   "outputs": [
    {
     "data": {
      "image/png": "[encoded data removed]",
      "text/plain": [
       "<Figure size 1080x432 with 1 Axes>"
      ]
     },
     "metadata": {
      "needs_background": "light"
     },
     "output_type": "display_data"
    }
   ],
   "source": [
    "plt.figure(figsize = (15, 6))\n",
    "sns.barplot(x= nt.index, y= nt)\n",
    "\n",
    "plt.xticks(rotation = 90)\n",
    "plt.xlabel('Feature name', fontsize = 15)\n",
    "plt.ylabel('Percent of missing values', fontsize = 15)\n",
    "plt.title('Percent missing data by feature (test data)', fontsize = 15)\n",
    "\n",
    "plt.show()"
   ]
  },
  {
   "cell_type": "markdown",
   "id": "bd634b08",
   "metadata": {
    "papermill": {
     "duration": 0.101776,
     "end_time": "2022-03-02T17:19:05.231565",
     "exception": false,
     "start_time": "2022-03-02T17:19:05.129789",
     "status": "completed"
    },
    "tags": []
   },
   "source": [
    "**Imputing missing values**\n",
    "\n",
    "we impute them by proceeding sequentially through features with missing values"
   ]
  },
  {
   "cell_type": "markdown",
   "id": "1d6b25b5",
   "metadata": {
    "papermill": {
     "duration": 0.100395,
     "end_time": "2022-03-02T17:19:05.428941",
     "exception": false,
     "start_time": "2022-03-02T17:19:05.328546",
     "status": "completed"
    },
    "tags": []
   },
   "source": [
    "* **PoolQC** : data description says NA means \"No Pool\". That make sense, given the huge ratio of missing value (+99%) and majority of houses don't have pools at all"
   ]
  },
  {
   "cell_type": "code",
   "execution_count": 13,
   "id": "c3000463",
   "metadata": {
    "execution": {
     "iopub.execute_input": "2022-03-02T17:19:05.632028Z",
     "iopub.status.busy": "2022-03-02T17:19:05.631380Z",
     "iopub.status.idle": "2022-03-02T17:19:05.634876Z",
     "shell.execute_reply": "2022-03-02T17:19:05.634296Z",
     "shell.execute_reply.started": "2022-03-02T16:55:31.731995Z"
    },
    "papermill": {
     "duration": 0.108045,
     "end_time": "2022-03-02T17:19:05.635031",
     "exception": false,
     "start_time": "2022-03-02T17:19:05.526986",
     "status": "completed"
    },
    "tags": []
   },
   "outputs": [],
   "source": [
    "train_df['PoolQC'] = train_df['PoolQC'].fillna('None')\n",
    "test_df['PoolQC'] = test_df['PoolQC'].fillna('None')"
   ]
  },
  {
   "cell_type": "markdown",
   "id": "afb1e2df",
   "metadata": {
    "papermill": {
     "duration": 0.098151,
     "end_time": "2022-03-02T17:19:05.833719",
     "exception": false,
     "start_time": "2022-03-02T17:19:05.735568",
     "status": "completed"
    },
    "tags": []
   },
   "source": [
    "* **MiscFeature** : data description says NA means \"no misc feature\""
   ]
  },
  {
   "cell_type": "code",
   "execution_count": 14,
   "id": "928f1344",
   "metadata": {
    "execution": {
     "iopub.execute_input": "2022-03-02T17:19:06.039524Z",
     "iopub.status.busy": "2022-03-02T17:19:06.038772Z",
     "iopub.status.idle": "2022-03-02T17:19:06.041784Z",
     "shell.execute_reply": "2022-03-02T17:19:06.041270Z",
     "shell.execute_reply.started": "2022-03-02T16:55:31.745291Z"
    },
    "papermill": {
     "duration": 0.109401,
     "end_time": "2022-03-02T17:19:06.041942",
     "exception": false,
     "start_time": "2022-03-02T17:19:05.932541",
     "status": "completed"
    },
    "tags": []
   },
   "outputs": [],
   "source": [
    "train_df['MiscFeature'] = train_df['MiscFeature'].fillna('None')\n",
    "test_df['MiscFeature'] = test_df['MiscFeature'].fillna('None')"
   ]
  },
  {
   "cell_type": "markdown",
   "id": "d7aa73f9",
   "metadata": {
    "papermill": {
     "duration": 0.117711,
     "end_time": "2022-03-02T17:19:06.259108",
     "exception": false,
     "start_time": "2022-03-02T17:19:06.141397",
     "status": "completed"
    },
    "tags": []
   },
   "source": [
    "* **Alley** : data description says NA means \"no alley access\""
   ]
  },
  {
   "cell_type": "code",
   "execution_count": 15,
   "id": "46993631",
   "metadata": {
    "execution": {
     "iopub.execute_input": "2022-03-02T17:19:06.470757Z",
     "iopub.status.busy": "2022-03-02T17:19:06.470087Z",
     "iopub.status.idle": "2022-03-02T17:19:06.472648Z",
     "shell.execute_reply": "2022-03-02T17:19:06.471983Z",
     "shell.execute_reply.started": "2022-03-02T16:55:31.757511Z"
    },
    "papermill": {
     "duration": 0.109865,
     "end_time": "2022-03-02T17:19:06.472805",
     "exception": false,
     "start_time": "2022-03-02T17:19:06.362940",
     "status": "completed"
    },
    "tags": []
   },
   "outputs": [],
   "source": [
    "train_df['Alley'] = train_df['Alley'].fillna('None')\n",
    "test_df['Alley'] = test_df['Alley'].fillna('None')"
   ]
  },
  {
   "cell_type": "markdown",
   "id": "c7d11700",
   "metadata": {
    "papermill": {
     "duration": 0.098097,
     "end_time": "2022-03-02T17:19:06.669448",
     "exception": false,
     "start_time": "2022-03-02T17:19:06.571351",
     "status": "completed"
    },
    "tags": []
   },
   "source": [
    "* **Fence** : data description says NA means \"no fence\""
   ]
  },
  {
   "cell_type": "code",
   "execution_count": 16,
   "id": "78528787",
   "metadata": {
    "execution": {
     "iopub.execute_input": "2022-03-02T17:19:06.874684Z",
     "iopub.status.busy": "2022-03-02T17:19:06.873936Z",
     "iopub.status.idle": "2022-03-02T17:19:06.876295Z",
     "shell.execute_reply": "2022-03-02T17:19:06.876753Z",
     "shell.execute_reply.started": "2022-03-02T16:55:31.772117Z"
    },
    "papermill": {
     "duration": 0.108857,
     "end_time": "2022-03-02T17:19:06.876961",
     "exception": false,
     "start_time": "2022-03-02T17:19:06.768104",
     "status": "completed"
    },
    "tags": []
   },
   "outputs": [],
   "source": [
    "train_df['Fence'] = train_df['Fence'].fillna('None')\n",
    "test_df['Fence'] = test_df['Fence'].fillna('None')"
   ]
  },
  {
   "cell_type": "markdown",
   "id": "a34e0f01",
   "metadata": {
    "papermill": {
     "duration": 0.100444,
     "end_time": "2022-03-02T17:19:07.078327",
     "exception": false,
     "start_time": "2022-03-02T17:19:06.977883",
     "status": "completed"
    },
    "tags": []
   },
   "source": [
    "* **FireplaceQu** : data description says NA means \"no fireplace\""
   ]
  },
  {
   "cell_type": "code",
   "execution_count": 17,
   "id": "d3a9cae0",
   "metadata": {
    "execution": {
     "iopub.execute_input": "2022-03-02T17:19:07.284761Z",
     "iopub.status.busy": "2022-03-02T17:19:07.283864Z",
     "iopub.status.idle": "2022-03-02T17:19:07.286528Z",
     "shell.execute_reply": "2022-03-02T17:19:07.285791Z",
     "shell.execute_reply.started": "2022-03-02T16:55:31.786243Z"
    },
    "papermill": {
     "duration": 0.109046,
     "end_time": "2022-03-02T17:19:07.286713",
     "exception": false,
     "start_time": "2022-03-02T17:19:07.177667",
     "status": "completed"
    },
    "tags": []
   },
   "outputs": [],
   "source": [
    "train_df['FireplaceQu'] = train_df['FireplaceQu'].fillna('None')\n",
    "test_df['FireplaceQu'] = test_df['FireplaceQu'].fillna('None')"
   ]
  },
  {
   "cell_type": "markdown",
   "id": "136579b5",
   "metadata": {
    "papermill": {
     "duration": 0.09828,
     "end_time": "2022-03-02T17:19:07.486288",
     "exception": false,
     "start_time": "2022-03-02T17:19:07.388008",
     "status": "completed"
    },
    "tags": []
   },
   "source": [
    "* **LotFrontage** : since the area of each street connected to the house property most likely have a similar area to other houses in its neighborhood , we can fill in missing values by the median LotFrontage of the neighborhood"
   ]
  },
  {
   "cell_type": "code",
   "execution_count": 18,
   "id": "149a51ea",
   "metadata": {
    "execution": {
     "iopub.execute_input": "2022-03-02T17:19:07.696051Z",
     "iopub.status.busy": "2022-03-02T17:19:07.695355Z",
     "iopub.status.idle": "2022-03-02T17:19:07.714793Z",
     "shell.execute_reply": "2022-03-02T17:19:07.714143Z",
     "shell.execute_reply.started": "2022-03-02T16:55:31.801517Z"
    },
    "papermill": {
     "duration": 0.12935,
     "end_time": "2022-03-02T17:19:07.714956",
     "exception": false,
     "start_time": "2022-03-02T17:19:07.585606",
     "status": "completed"
    },
    "tags": []
   },
   "outputs": [],
   "source": [
    "train_df['LotFrontage'] = train_df.groupby('Neighborhood')['LotFrontage'].transform(lambda x: x.fillna(x.median())) # https://stackoverflow.com/questions/19966018/pandas-filling-missing-values-by-mean-in-each-group\n",
    "test_df['LotFrontage'] = test_df.groupby('Neighborhood')['LotFrontage'].transform(lambda x: x.fillna(x.median()))"
   ]
  },
  {
   "cell_type": "markdown",
   "id": "126ade86",
   "metadata": {
    "papermill": {
     "duration": 0.100226,
     "end_time": "2022-03-02T17:19:07.914206",
     "exception": false,
     "start_time": "2022-03-02T17:19:07.813980",
     "status": "completed"
    },
    "tags": []
   },
   "source": [
    "* **GarageType, GarageFinish, GarageQual and GarageCond** : replacing missing data with None"
   ]
  },
  {
   "cell_type": "code",
   "execution_count": 19,
   "id": "8b2064a2",
   "metadata": {
    "execution": {
     "iopub.execute_input": "2022-03-02T17:19:08.126322Z",
     "iopub.status.busy": "2022-03-02T17:19:08.125609Z",
     "iopub.status.idle": "2022-03-02T17:19:08.127699Z",
     "shell.execute_reply": "2022-03-02T17:19:08.127056Z",
     "shell.execute_reply.started": "2022-03-02T16:55:31.833394Z"
    },
    "papermill": {
     "duration": 0.114498,
     "end_time": "2022-03-02T17:19:08.127867",
     "exception": false,
     "start_time": "2022-03-02T17:19:08.013369",
     "status": "completed"
    },
    "tags": []
   },
   "outputs": [],
   "source": [
    "for garage in ('GarageType', 'GarageFinish', 'GarageQual', 'GarageCond'):\n",
    "    train_df[garage] = train_df[garage].fillna('None')\n",
    "    \n",
    "for garage in ('GarageType', 'GarageFinish', 'GarageQual', 'GarageCond'):\n",
    "    test_df[garage] = test_df[garage].fillna('None')"
   ]
  },
  {
   "cell_type": "markdown",
   "id": "4f5a5389",
   "metadata": {
    "papermill": {
     "duration": 0.097644,
     "end_time": "2022-03-02T17:19:08.326846",
     "exception": false,
     "start_time": "2022-03-02T17:19:08.229202",
     "status": "completed"
    },
    "tags": []
   },
   "source": [
    "* **GarageYrBlt, GarageArea and GarageCars** : replacing missing data with 0 (Since no garage = no cars in garage)"
   ]
  },
  {
   "cell_type": "code",
   "execution_count": 20,
   "id": "9ffa1c8f",
   "metadata": {
    "execution": {
     "iopub.execute_input": "2022-03-02T17:19:08.530036Z",
     "iopub.status.busy": "2022-03-02T17:19:08.529401Z",
     "iopub.status.idle": "2022-03-02T17:19:08.533403Z",
     "shell.execute_reply": "2022-03-02T17:19:08.532830Z",
     "shell.execute_reply.started": "2022-03-02T16:55:31.847816Z"
    },
    "papermill": {
     "duration": 0.109191,
     "end_time": "2022-03-02T17:19:08.533554",
     "exception": false,
     "start_time": "2022-03-02T17:19:08.424363",
     "status": "completed"
    },
    "tags": []
   },
   "outputs": [],
   "source": [
    "for garage in ('GarageYrBlt', 'GarageArea', 'GarageCars'):\n",
    "    train_df[garage] = train_df[garage].fillna(0)\n",
    "    \n",
    "for garage in ('GarageYrBlt', 'GarageArea', 'GarageCars'):\n",
    "    test_df[garage] = test_df[garage].fillna(0)"
   ]
  },
  {
   "cell_type": "markdown",
   "id": "28e16195",
   "metadata": {
    "papermill": {
     "duration": 0.097831,
     "end_time": "2022-03-02T17:19:08.729430",
     "exception": false,
     "start_time": "2022-03-02T17:19:08.631599",
     "status": "completed"
    },
    "tags": []
   },
   "source": [
    "* **BsmtFinSF1, BsmtFinSF2, BsmtUnfSF, TotalBsmtSF, BsmtFullBath and BsmtHalfBath** : missing values are likely zero for having no basement"
   ]
  },
  {
   "cell_type": "code",
   "execution_count": 21,
   "id": "b7f045af",
   "metadata": {
    "execution": {
     "iopub.execute_input": "2022-03-02T17:19:08.934297Z",
     "iopub.status.busy": "2022-03-02T17:19:08.933557Z",
     "iopub.status.idle": "2022-03-02T17:19:08.938814Z",
     "shell.execute_reply": "2022-03-02T17:19:08.939431Z",
     "shell.execute_reply.started": "2022-03-02T16:55:31.859914Z"
    },
    "papermill": {
     "duration": 0.111621,
     "end_time": "2022-03-02T17:19:08.939608",
     "exception": false,
     "start_time": "2022-03-02T17:19:08.827987",
     "status": "completed"
    },
    "tags": []
   },
   "outputs": [],
   "source": [
    "for bsmt in ('BsmtFinSF1', 'BsmtFinSF2', 'BsmtUnfSF','TotalBsmtSF', 'BsmtFullBath', 'BsmtHalfBath'):\n",
    "    train_df[bsmt] = train_df[bsmt].fillna(0)\n",
    "    \n",
    "for bsmt in ('BsmtFinSF1', 'BsmtFinSF2', 'BsmtUnfSF','TotalBsmtSF', 'BsmtFullBath', 'BsmtHalfBath'):\n",
    "    test_df[bsmt] = test_df[bsmt].fillna(0)"
   ]
  },
  {
   "cell_type": "markdown",
   "id": "d69bf315",
   "metadata": {
    "papermill": {
     "duration": 0.098071,
     "end_time": "2022-03-02T17:19:09.135120",
     "exception": false,
     "start_time": "2022-03-02T17:19:09.037049",
     "status": "completed"
    },
    "tags": []
   },
   "source": [
    "* **BsmtQual, BsmtCond, BsmtExposure, BsmtFinType1 and BsmtFinType2** : for all these categorical basement-related features, NaN means that there is no basement"
   ]
  },
  {
   "cell_type": "code",
   "execution_count": 22,
   "id": "12d8c73d",
   "metadata": {
    "execution": {
     "iopub.execute_input": "2022-03-02T17:19:09.338715Z",
     "iopub.status.busy": "2022-03-02T17:19:09.338069Z",
     "iopub.status.idle": "2022-03-02T17:19:09.347480Z",
     "shell.execute_reply": "2022-03-02T17:19:09.346934Z",
     "shell.execute_reply.started": "2022-03-02T16:55:31.876996Z"
    },
    "papermill": {
     "duration": 0.114746,
     "end_time": "2022-03-02T17:19:09.347626",
     "exception": false,
     "start_time": "2022-03-02T17:19:09.232880",
     "status": "completed"
    },
    "tags": []
   },
   "outputs": [],
   "source": [
    "for bsmt in ('BsmtQual', 'BsmtCond', 'BsmtExposure', 'BsmtFinType1', 'BsmtFinType2'):\n",
    "    train_df[bsmt] = train_df[bsmt].fillna('None')\n",
    "    \n",
    "for bsmt in ('BsmtQual', 'BsmtCond', 'BsmtExposure', 'BsmtFinType1', 'BsmtFinType2'):\n",
    "    test_df[bsmt] = test_df[bsmt].fillna('None')"
   ]
  },
  {
   "cell_type": "markdown",
   "id": "ace3c274",
   "metadata": {
    "papermill": {
     "duration": 0.097601,
     "end_time": "2022-03-02T17:19:09.543185",
     "exception": false,
     "start_time": "2022-03-02T17:19:09.445584",
     "status": "completed"
    },
    "tags": []
   },
   "source": [
    "* **MasVnrArea and MasVnrType** : NA most likely means no masonry veneer for these houses. We can fill 0 for the area and None for the type"
   ]
  },
  {
   "cell_type": "code",
   "execution_count": 23,
   "id": "7244bfe5",
   "metadata": {
    "execution": {
     "iopub.execute_input": "2022-03-02T17:19:09.747431Z",
     "iopub.status.busy": "2022-03-02T17:19:09.746497Z",
     "iopub.status.idle": "2022-03-02T17:19:09.749393Z",
     "shell.execute_reply": "2022-03-02T17:19:09.749858Z",
     "shell.execute_reply.started": "2022-03-02T16:55:31.901533Z"
    },
    "papermill": {
     "duration": 0.109419,
     "end_time": "2022-03-02T17:19:09.750040",
     "exception": false,
     "start_time": "2022-03-02T17:19:09.640621",
     "status": "completed"
    },
    "tags": []
   },
   "outputs": [],
   "source": [
    "train_df[\"MasVnrArea\"] = train_df[\"MasVnrArea\"].fillna(0)\n",
    "train_df[\"MasVnrType\"] = train_df[\"MasVnrType\"].fillna(\"None\")\n",
    "\n",
    "test_df[\"MasVnrArea\"] = test_df[\"MasVnrArea\"].fillna(0)\n",
    "test_df[\"MasVnrType\"] = test_df[\"MasVnrType\"].fillna(\"None\")"
   ]
  },
  {
   "cell_type": "markdown",
   "id": "759af07d",
   "metadata": {
    "papermill": {
     "duration": 0.099518,
     "end_time": "2022-03-02T17:19:09.949332",
     "exception": false,
     "start_time": "2022-03-02T17:19:09.849814",
     "status": "completed"
    },
    "tags": []
   },
   "source": [
    "* **MSZoning (The general zoning classification)** : 'RL' is by far the most common value. So we can fill in missing values with 'RL'"
   ]
  },
  {
   "cell_type": "code",
   "execution_count": 24,
   "id": "321f7e22",
   "metadata": {
    "execution": {
     "iopub.execute_input": "2022-03-02T17:19:10.152664Z",
     "iopub.status.busy": "2022-03-02T17:19:10.151938Z",
     "iopub.status.idle": "2022-03-02T17:19:10.155131Z",
     "shell.execute_reply": "2022-03-02T17:19:10.154586Z",
     "shell.execute_reply.started": "2022-03-02T16:55:31.918217Z"
    },
    "papermill": {
     "duration": 0.108639,
     "end_time": "2022-03-02T17:19:10.155295",
     "exception": false,
     "start_time": "2022-03-02T17:19:10.046656",
     "status": "completed"
    },
    "tags": []
   },
   "outputs": [],
   "source": [
    "test_df['MSZoning'] = test_df['MSZoning'].fillna(test_df['MSZoning'].mode()[0])"
   ]
  },
  {
   "cell_type": "markdown",
   "id": "dd7dc8d2",
   "metadata": {
    "papermill": {
     "duration": 0.097873,
     "end_time": "2022-03-02T17:19:10.352360",
     "exception": false,
     "start_time": "2022-03-02T17:19:10.254487",
     "status": "completed"
    },
    "tags": []
   },
   "source": [
    "* **Utilities** : for this categorical feature all records are \"AllPub\", except for one \"NoSeWa\" and 2 NA. Since the house with 'NoSewa' is in the training set, this feature won't help in predictive modelling. We can then safely remove it"
   ]
  },
  {
   "cell_type": "code",
   "execution_count": 25,
   "id": "a7cdf900",
   "metadata": {
    "execution": {
     "iopub.execute_input": "2022-03-02T17:19:10.560208Z",
     "iopub.status.busy": "2022-03-02T17:19:10.558196Z",
     "iopub.status.idle": "2022-03-02T17:19:10.562508Z",
     "shell.execute_reply": "2022-03-02T17:19:10.563202Z",
     "shell.execute_reply.started": "2022-03-02T16:55:32.507257Z"
    },
    "papermill": {
     "duration": 0.112113,
     "end_time": "2022-03-02T17:19:10.563392",
     "exception": false,
     "start_time": "2022-03-02T17:19:10.451279",
     "status": "completed"
    },
    "tags": []
   },
   "outputs": [],
   "source": [
    "train_df = train_df.drop(columns = ['Utilities'])\n",
    "test_df = test_df.drop(columns = ['Utilities'])"
   ]
  },
  {
   "cell_type": "markdown",
   "id": "4535eddc",
   "metadata": {
    "papermill": {
     "duration": 0.09822,
     "end_time": "2022-03-02T17:19:10.759872",
     "exception": false,
     "start_time": "2022-03-02T17:19:10.661652",
     "status": "completed"
    },
    "tags": []
   },
   "source": [
    "* **Functional** : data description says NA means typical"
   ]
  },
  {
   "cell_type": "code",
   "execution_count": 26,
   "id": "51733005",
   "metadata": {
    "execution": {
     "iopub.execute_input": "2022-03-02T17:19:10.958778Z",
     "iopub.status.busy": "2022-03-02T17:19:10.958117Z",
     "iopub.status.idle": "2022-03-02T17:19:10.963617Z",
     "shell.execute_reply": "2022-03-02T17:19:10.964087Z",
     "shell.execute_reply.started": "2022-03-02T16:55:32.868498Z"
    },
    "papermill": {
     "duration": 0.106806,
     "end_time": "2022-03-02T17:19:10.964293",
     "exception": false,
     "start_time": "2022-03-02T17:19:10.857487",
     "status": "completed"
    },
    "tags": []
   },
   "outputs": [],
   "source": [
    "test_df[\"Functional\"] = test_df[\"Functional\"].fillna(\"Typ\")"
   ]
  },
  {
   "cell_type": "markdown",
   "id": "f1db5c3b",
   "metadata": {
    "papermill": {
     "duration": 0.097347,
     "end_time": "2022-03-02T17:19:11.159739",
     "exception": false,
     "start_time": "2022-03-02T17:19:11.062392",
     "status": "completed"
    },
    "tags": []
   },
   "source": [
    "* **Electrical** : it has one NA value. Since this feature has mostly 'SBrkr', we can set that for the missing value"
   ]
  },
  {
   "cell_type": "code",
   "execution_count": 27,
   "id": "cef02349",
   "metadata": {
    "execution": {
     "iopub.execute_input": "2022-03-02T17:19:11.359991Z",
     "iopub.status.busy": "2022-03-02T17:19:11.359375Z",
     "iopub.status.idle": "2022-03-02T17:19:11.365493Z",
     "shell.execute_reply": "2022-03-02T17:19:11.366002Z",
     "shell.execute_reply.started": "2022-03-02T16:55:33.219290Z"
    },
    "papermill": {
     "duration": 0.108932,
     "end_time": "2022-03-02T17:19:11.366190",
     "exception": false,
     "start_time": "2022-03-02T17:19:11.257258",
     "status": "completed"
    },
    "tags": []
   },
   "outputs": [],
   "source": [
    "train_df['Electrical'] = train_df['Electrical'].fillna(train_df['Electrical'].mode()[0])"
   ]
  },
  {
   "cell_type": "markdown",
   "id": "965ffc4b",
   "metadata": {
    "papermill": {
     "duration": 0.098291,
     "end_time": "2022-03-02T17:19:11.563107",
     "exception": false,
     "start_time": "2022-03-02T17:19:11.464816",
     "status": "completed"
    },
    "tags": []
   },
   "source": [
    "* **KitchenQual**: only has one NA value and same as Electrical, we set 'TA' (which is the most frequent) for the missing value in KitchenQual"
   ]
  },
  {
   "cell_type": "code",
   "execution_count": 28,
   "id": "e23a2cb3",
   "metadata": {
    "execution": {
     "iopub.execute_input": "2022-03-02T17:19:11.764891Z",
     "iopub.status.busy": "2022-03-02T17:19:11.764236Z",
     "iopub.status.idle": "2022-03-02T17:19:11.770121Z",
     "shell.execute_reply": "2022-03-02T17:19:11.770620Z",
     "shell.execute_reply.started": "2022-03-02T16:55:33.558416Z"
    },
    "papermill": {
     "duration": 0.109577,
     "end_time": "2022-03-02T17:19:11.770800",
     "exception": false,
     "start_time": "2022-03-02T17:19:11.661223",
     "status": "completed"
    },
    "tags": []
   },
   "outputs": [],
   "source": [
    "test_df['KitchenQual'] = test_df['KitchenQual'].fillna(test_df['KitchenQual'].mode()[0])"
   ]
  },
  {
   "cell_type": "markdown",
   "id": "b8bfa388",
   "metadata": {
    "papermill": {
     "duration": 0.098535,
     "end_time": "2022-03-02T17:19:11.968008",
     "exception": false,
     "start_time": "2022-03-02T17:19:11.869473",
     "status": "completed"
    },
    "tags": []
   },
   "source": [
    "* **Exterior1st and Exterior2nd** : both Exterior 1 & 2 have only one missing value. We will just substitute in the most common string"
   ]
  },
  {
   "cell_type": "code",
   "execution_count": 29,
   "id": "48d7f141",
   "metadata": {
    "execution": {
     "iopub.execute_input": "2022-03-02T17:19:12.169215Z",
     "iopub.status.busy": "2022-03-02T17:19:12.168507Z",
     "iopub.status.idle": "2022-03-02T17:19:12.175783Z",
     "shell.execute_reply": "2022-03-02T17:19:12.176240Z",
     "shell.execute_reply.started": "2022-03-02T16:55:34.357287Z"
    },
    "papermill": {
     "duration": 0.109112,
     "end_time": "2022-03-02T17:19:12.176409",
     "exception": false,
     "start_time": "2022-03-02T17:19:12.067297",
     "status": "completed"
    },
    "tags": []
   },
   "outputs": [],
   "source": [
    "test_df['Exterior1st'] = test_df['Exterior1st'].fillna(test_df['Exterior1st'].mode()[0])\n",
    "test_df['Exterior2nd'] = test_df['Exterior2nd'].fillna(test_df['Exterior2nd'].mode()[0])"
   ]
  },
  {
   "cell_type": "markdown",
   "id": "3e0707bb",
   "metadata": {
    "papermill": {
     "duration": 0.102847,
     "end_time": "2022-03-02T17:19:12.379122",
     "exception": false,
     "start_time": "2022-03-02T17:19:12.276275",
     "status": "completed"
    },
    "tags": []
   },
   "source": [
    "* **SaleType** : fill in again with most frequent which is \"WD\""
   ]
  },
  {
   "cell_type": "code",
   "execution_count": 30,
   "id": "4b558a21",
   "metadata": {
    "execution": {
     "iopub.execute_input": "2022-03-02T17:19:12.579843Z",
     "iopub.status.busy": "2022-03-02T17:19:12.579109Z",
     "iopub.status.idle": "2022-03-02T17:19:12.584798Z",
     "shell.execute_reply": "2022-03-02T17:19:12.585336Z",
     "shell.execute_reply.started": "2022-03-02T16:55:34.747628Z"
    },
    "papermill": {
     "duration": 0.10764,
     "end_time": "2022-03-02T17:19:12.585506",
     "exception": false,
     "start_time": "2022-03-02T17:19:12.477866",
     "status": "completed"
    },
    "tags": []
   },
   "outputs": [],
   "source": [
    "test_df['SaleType'] = test_df['SaleType'].fillna(test_df['SaleType'].mode()[0])"
   ]
  },
  {
   "cell_type": "markdown",
   "id": "1ac31e18",
   "metadata": {
    "papermill": {
     "duration": 0.099287,
     "end_time": "2022-03-02T17:19:12.784202",
     "exception": false,
     "start_time": "2022-03-02T17:19:12.684915",
     "status": "completed"
    },
    "tags": []
   },
   "source": [
    "is there any remaining missing value ?"
   ]
  },
  {
   "cell_type": "markdown",
   "id": "fb6707cb",
   "metadata": {
    "papermill": {
     "duration": 0.100244,
     "end_time": "2022-03-02T17:19:12.982332",
     "exception": false,
     "start_time": "2022-03-02T17:19:12.882088",
     "status": "completed"
    },
    "tags": []
   },
   "source": [
    "train dataset"
   ]
  },
  {
   "cell_type": "code",
   "execution_count": 31,
   "id": "5cdfe17a",
   "metadata": {
    "execution": {
     "iopub.execute_input": "2022-03-02T17:19:13.184436Z",
     "iopub.status.busy": "2022-03-02T17:19:13.183764Z",
     "iopub.status.idle": "2022-03-02T17:19:13.202031Z",
     "shell.execute_reply": "2022-03-02T17:19:13.202681Z",
     "shell.execute_reply.started": "2022-03-02T16:55:36.597293Z"
    },
    "papermill": {
     "duration": 0.1213,
     "end_time": "2022-03-02T17:19:13.202849",
     "exception": false,
     "start_time": "2022-03-02T17:19:13.081549",
     "status": "completed"
    },
    "tags": []
   },
   "outputs": [
    {
     "data": {
      "text/plain": [
       "MSSubClass      0.0\n",
       "KitchenAbvGr    0.0\n",
       "GarageYrBlt     0.0\n",
       "GarageType      0.0\n",
       "FireplaceQu     0.0\n",
       "dtype: float64"
      ]
     },
     "execution_count": 31,
     "metadata": {},
     "output_type": "execute_result"
    }
   ],
   "source": [
    "chtr = train_df.isnull().sum().sort_values(ascending = False) / len(train_df) * 100\n",
    "chtr.head()"
   ]
  },
  {
   "cell_type": "markdown",
   "id": "a99d7ea9",
   "metadata": {
    "papermill": {
     "duration": 0.100234,
     "end_time": "2022-03-02T17:19:13.402151",
     "exception": false,
     "start_time": "2022-03-02T17:19:13.301917",
     "status": "completed"
    },
    "tags": []
   },
   "source": [
    "test dataset"
   ]
  },
  {
   "cell_type": "code",
   "execution_count": 32,
   "id": "08f3e54f",
   "metadata": {
    "execution": {
     "iopub.execute_input": "2022-03-02T17:19:13.604334Z",
     "iopub.status.busy": "2022-03-02T17:19:13.603658Z",
     "iopub.status.idle": "2022-03-02T17:19:13.622038Z",
     "shell.execute_reply": "2022-03-02T17:19:13.621513Z",
     "shell.execute_reply.started": "2022-03-02T16:55:37.709269Z"
    },
    "papermill": {
     "duration": 0.119957,
     "end_time": "2022-03-02T17:19:13.622211",
     "exception": false,
     "start_time": "2022-03-02T17:19:13.502254",
     "status": "completed"
    },
    "tags": []
   },
   "outputs": [
    {
     "data": {
      "text/plain": [
       "MSSubClass      0.0\n",
       "BedroomAbvGr    0.0\n",
       "GarageType      0.0\n",
       "FireplaceQu     0.0\n",
       "Fireplaces      0.0\n",
       "dtype: float64"
      ]
     },
     "execution_count": 32,
     "metadata": {},
     "output_type": "execute_result"
    }
   ],
   "source": [
    "chts = test_df.isnull().sum().sort_values(ascending = False) / len(test_df) * 100\n",
    "chts.head()"
   ]
  },
  {
   "cell_type": "markdown",
   "id": "c5b9e927",
   "metadata": {
    "papermill": {
     "duration": 0.098002,
     "end_time": "2022-03-02T17:19:13.820087",
     "exception": false,
     "start_time": "2022-03-02T17:19:13.722085",
     "status": "completed"
    },
    "tags": []
   },
   "source": [
    "**More features engeneering**\n",
    "\n",
    "transforming some numerical variables that are really categorical"
   ]
  },
  {
   "cell_type": "code",
   "execution_count": 33,
   "id": "132d9bee",
   "metadata": {
    "execution": {
     "iopub.execute_input": "2022-03-02T17:19:14.022517Z",
     "iopub.status.busy": "2022-03-02T17:19:14.021871Z",
     "iopub.status.idle": "2022-03-02T17:19:14.041040Z",
     "shell.execute_reply": "2022-03-02T17:19:14.040512Z",
     "shell.execute_reply.started": "2022-03-02T16:56:15.368065Z"
    },
    "papermill": {
     "duration": 0.12227,
     "end_time": "2022-03-02T17:19:14.041205",
     "exception": false,
     "start_time": "2022-03-02T17:19:13.918935",
     "status": "completed"
    },
    "tags": []
   },
   "outputs": [],
   "source": [
    "train_df['MSSubClass'] = train_df['MSSubClass'].apply(str)\n",
    "test_df['MSSubClass'] = test_df['MSSubClass'].apply(str)\n",
    "\n",
    "train_df['OverallCond'] = train_df['OverallCond'].astype(str)\n",
    "test_df['OverallCond'] = test_df['OverallCond'].astype(str)\n",
    "\n",
    "train_df['YrSold'] = train_df['YrSold'].astype(str)\n",
    "test_df['MoSold'] = test_df['MoSold'].astype(str)"
   ]
  },
  {
   "cell_type": "markdown",
   "id": "3ecf06a4",
   "metadata": {
    "papermill": {
     "duration": 0.099618,
     "end_time": "2022-03-02T17:19:14.239342",
     "exception": false,
     "start_time": "2022-03-02T17:19:14.139724",
     "status": "completed"
    },
    "tags": []
   },
   "source": [
    "**Adding one more important feature**\n",
    "\n",
    "since area related features are very important to determine house price, we add one more feature which is the total area of basement, first and second floor area of each house"
   ]
  },
  {
   "cell_type": "code",
   "execution_count": 34,
   "id": "e5e0b0fd",
   "metadata": {
    "execution": {
     "iopub.execute_input": "2022-03-02T17:19:14.441435Z",
     "iopub.status.busy": "2022-03-02T17:19:14.440714Z",
     "iopub.status.idle": "2022-03-02T17:19:14.447559Z",
     "shell.execute_reply": "2022-03-02T17:19:14.448184Z",
     "shell.execute_reply.started": "2022-03-02T16:56:16.118668Z"
    },
    "papermill": {
     "duration": 0.109104,
     "end_time": "2022-03-02T17:19:14.448351",
     "exception": false,
     "start_time": "2022-03-02T17:19:14.339247",
     "status": "completed"
    },
    "tags": []
   },
   "outputs": [],
   "source": [
    "train_df['TotalSF'] = train_df['TotalBsmtSF'] + train_df['1stFlrSF'] + train_df['2ndFlrSF']\n",
    "test_df['TotalSF'] = test_df['TotalBsmtSF'] + test_df['1stFlrSF'] + test_df['2ndFlrSF']"
   ]
  },
  {
   "cell_type": "markdown",
   "id": "61d256ac",
   "metadata": {
    "papermill": {
     "duration": 0.099772,
     "end_time": "2022-03-02T17:19:14.646148",
     "exception": false,
     "start_time": "2022-03-02T17:19:14.546376",
     "status": "completed"
    },
    "tags": []
   },
   "source": [
    "concatenate the train and test data in the same dataframe"
   ]
  },
  {
   "cell_type": "code",
   "execution_count": 35,
   "id": "104c1d8e",
   "metadata": {
    "execution": {
     "iopub.execute_input": "2022-03-02T17:19:14.846572Z",
     "iopub.status.busy": "2022-03-02T17:19:14.845825Z",
     "iopub.status.idle": "2022-03-02T17:19:14.877134Z",
     "shell.execute_reply": "2022-03-02T17:19:14.877715Z",
     "shell.execute_reply.started": "2022-03-02T16:56:16.697204Z"
    },
    "papermill": {
     "duration": 0.133235,
     "end_time": "2022-03-02T17:19:14.877893",
     "exception": false,
     "start_time": "2022-03-02T17:19:14.744658",
     "status": "completed"
    },
    "tags": []
   },
   "outputs": [],
   "source": [
    "all_data = pd.concat([train_df, test_df]).reset_index(drop = True)\n",
    "all_data = all_data.drop(columns=['SalePrice'])"
   ]
  },
  {
   "cell_type": "markdown",
   "id": "53c7e969",
   "metadata": {
    "papermill": {
     "duration": 0.098546,
     "end_time": "2022-03-02T17:19:15.076055",
     "exception": false,
     "start_time": "2022-03-02T17:19:14.977509",
     "status": "completed"
    },
    "tags": []
   },
   "source": [
    "make a list of categorical features and numerical features"
   ]
  },
  {
   "cell_type": "code",
   "execution_count": 36,
   "id": "656d5c7e",
   "metadata": {
    "execution": {
     "iopub.execute_input": "2022-03-02T17:19:15.279554Z",
     "iopub.status.busy": "2022-03-02T17:19:15.278844Z",
     "iopub.status.idle": "2022-03-02T17:19:15.289258Z",
     "shell.execute_reply": "2022-03-02T17:19:15.289877Z",
     "shell.execute_reply.started": "2022-03-02T16:56:17.243030Z"
    },
    "papermill": {
     "duration": 0.114235,
     "end_time": "2022-03-02T17:19:15.290053",
     "exception": false,
     "start_time": "2022-03-02T17:19:15.175818",
     "status": "completed"
    },
    "tags": []
   },
   "outputs": [],
   "source": [
    "all_data_cat = list(all_data.select_dtypes(include=['object']))\n",
    "all_data_num = list(all_data.select_dtypes(include=['int', 'float']))"
   ]
  },
  {
   "cell_type": "markdown",
   "id": "8c1e23b6",
   "metadata": {
    "papermill": {
     "duration": 0.098962,
     "end_time": "2022-03-02T17:19:15.487984",
     "exception": false,
     "start_time": "2022-03-02T17:19:15.389022",
     "status": "completed"
    },
    "tags": []
   },
   "source": [
    "importing libraries for modelling and method for dealing with categorical features"
   ]
  },
  {
   "cell_type": "code",
   "execution_count": 37,
   "id": "2d284dd3",
   "metadata": {
    "execution": {
     "iopub.execute_input": "2022-03-02T17:19:15.694679Z",
     "iopub.status.busy": "2022-03-02T17:19:15.693997Z",
     "iopub.status.idle": "2022-03-02T17:19:16.207661Z",
     "shell.execute_reply": "2022-03-02T17:19:16.207089Z",
     "shell.execute_reply.started": "2022-03-02T16:56:17.557827Z"
    },
    "papermill": {
     "duration": 0.618184,
     "end_time": "2022-03-02T17:19:16.207818",
     "exception": false,
     "start_time": "2022-03-02T17:19:15.589634",
     "status": "completed"
    },
    "tags": []
   },
   "outputs": [],
   "source": [
    "from sklearn.linear_model import ElasticNet, Lasso\n",
    "from sklearn.ensemble import RandomForestRegressor,  GradientBoostingRegressor\n",
    "from sklearn.pipeline import make_pipeline\n",
    "from sklearn.preprocessing import RobustScaler, OneHotEncoder\n",
    "from sklearn.model_selection import KFold, cross_val_score, GridSearchCV\n",
    "from sklearn.metrics import mean_squared_error\n",
    "from sklearn.kernel_ridge import KernelRidge"
   ]
  },
  {
   "cell_type": "markdown",
   "id": "0bad403b",
   "metadata": {
    "papermill": {
     "duration": 0.098626,
     "end_time": "2022-03-02T17:19:16.404733",
     "exception": false,
     "start_time": "2022-03-02T17:19:16.306107",
     "status": "completed"
    },
    "tags": []
   },
   "source": [
    "getting dummy categorical features"
   ]
  },
  {
   "cell_type": "code",
   "execution_count": 38,
   "id": "c1db8f0f",
   "metadata": {
    "execution": {
     "iopub.execute_input": "2022-03-02T17:19:16.612692Z",
     "iopub.status.busy": "2022-03-02T17:19:16.611981Z",
     "iopub.status.idle": "2022-03-02T17:19:16.664820Z",
     "shell.execute_reply": "2022-03-02T17:19:16.665334Z",
     "shell.execute_reply.started": "2022-03-02T16:56:19.622230Z"
    },
    "papermill": {
     "duration": 0.161845,
     "end_time": "2022-03-02T17:19:16.665566",
     "exception": false,
     "start_time": "2022-03-02T17:19:16.503721",
     "status": "completed"
    },
    "tags": []
   },
   "outputs": [],
   "source": [
    "all_data = pd.get_dummies(all_data)"
   ]
  },
  {
   "cell_type": "markdown",
   "id": "828fd119",
   "metadata": {
    "papermill": {
     "duration": 0.098696,
     "end_time": "2022-03-02T17:19:16.865094",
     "exception": false,
     "start_time": "2022-03-02T17:19:16.766398",
     "status": "completed"
    },
    "tags": []
   },
   "source": [
    "finding skewed data"
   ]
  },
  {
   "cell_type": "code",
   "execution_count": 39,
   "id": "caeb88a0",
   "metadata": {
    "execution": {
     "iopub.execute_input": "2022-03-02T17:19:17.070392Z",
     "iopub.status.busy": "2022-03-02T17:19:17.069716Z",
     "iopub.status.idle": "2022-03-02T17:19:17.080602Z",
     "shell.execute_reply": "2022-03-02T17:19:17.081123Z",
     "shell.execute_reply.started": "2022-03-02T16:56:20.538195Z"
    },
    "papermill": {
     "duration": 0.116212,
     "end_time": "2022-03-02T17:19:17.081359",
     "exception": false,
     "start_time": "2022-03-02T17:19:16.965147",
     "status": "completed"
    },
    "tags": []
   },
   "outputs": [],
   "source": [
    "skewness = all_data[all_data_num].skew().sort_values(ascending = False)\n",
    "skew = skewness[abs(skewness) > 1]"
   ]
  },
  {
   "cell_type": "markdown",
   "id": "8d1af255",
   "metadata": {
    "papermill": {
     "duration": 0.118892,
     "end_time": "2022-03-02T17:19:17.305996",
     "exception": false,
     "start_time": "2022-03-02T17:19:17.187104",
     "status": "completed"
    },
    "tags": []
   },
   "source": [
    "using sqrt method to reduce skewness in data"
   ]
  },
  {
   "cell_type": "code",
   "execution_count": 40,
   "id": "221b7fed",
   "metadata": {
    "execution": {
     "iopub.execute_input": "2022-03-02T17:19:17.514567Z",
     "iopub.status.busy": "2022-03-02T17:19:17.513561Z",
     "iopub.status.idle": "2022-03-02T17:19:17.540604Z",
     "shell.execute_reply": "2022-03-02T17:19:17.541185Z",
     "shell.execute_reply.started": "2022-03-02T16:56:21.797998Z"
    },
    "papermill": {
     "duration": 0.135927,
     "end_time": "2022-03-02T17:19:17.541389",
     "exception": false,
     "start_time": "2022-03-02T17:19:17.405462",
     "status": "completed"
    },
    "tags": []
   },
   "outputs": [],
   "source": [
    "for x in skew.index:\n",
    "    all_data[x] = np.sqrt(all_data[x])"
   ]
  },
  {
   "cell_type": "markdown",
   "id": "49869aa0",
   "metadata": {
    "papermill": {
     "duration": 0.099392,
     "end_time": "2022-03-02T17:19:17.740602",
     "exception": false,
     "start_time": "2022-03-02T17:19:17.641210",
     "status": "completed"
    },
    "tags": []
   },
   "source": [
    "our features and target variables"
   ]
  },
  {
   "cell_type": "code",
   "execution_count": 41,
   "id": "d3aab147",
   "metadata": {
    "execution": {
     "iopub.execute_input": "2022-03-02T17:19:17.946214Z",
     "iopub.status.busy": "2022-03-02T17:19:17.945491Z",
     "iopub.status.idle": "2022-03-02T17:19:17.947915Z",
     "shell.execute_reply": "2022-03-02T17:19:17.947333Z",
     "shell.execute_reply.started": "2022-03-02T16:57:16.483401Z"
    },
    "papermill": {
     "duration": 0.107779,
     "end_time": "2022-03-02T17:19:17.948083",
     "exception": false,
     "start_time": "2022-03-02T17:19:17.840304",
     "status": "completed"
    },
    "tags": []
   },
   "outputs": [],
   "source": [
    "train_X = all_data[:train_df.shape[0]]\n",
    "test_X = all_data[test_df.shape[0]-1:]\n",
    "train_y = train_df['SalePrice']"
   ]
  },
  {
   "cell_type": "markdown",
   "id": "53e14457",
   "metadata": {
    "papermill": {
     "duration": 0.099458,
     "end_time": "2022-03-02T17:19:18.153037",
     "exception": false,
     "start_time": "2022-03-02T17:19:18.053579",
     "status": "completed"
    },
    "tags": []
   },
   "source": [
    "we use the cross_val_score function from Sklearn. However this function has not a shuffle attribute, we add then one line of code, in order to shuffle the dataset prior to cross-validation"
   ]
  },
  {
   "cell_type": "code",
   "execution_count": 42,
   "id": "46415e17",
   "metadata": {
    "execution": {
     "iopub.execute_input": "2022-03-02T17:19:18.363680Z",
     "iopub.status.busy": "2022-03-02T17:19:18.362778Z",
     "iopub.status.idle": "2022-03-02T17:19:18.364856Z",
     "shell.execute_reply": "2022-03-02T17:19:18.365327Z",
     "shell.execute_reply.started": "2022-03-02T16:59:07.198046Z"
    },
    "papermill": {
     "duration": 0.10872,
     "end_time": "2022-03-02T17:19:18.365547",
     "exception": false,
     "start_time": "2022-03-02T17:19:18.256827",
     "status": "completed"
    },
    "tags": []
   },
   "outputs": [],
   "source": [
    "def rmsle(model):\n",
    "    kf = KFold(n_splits = 5, shuffle=True, random_state=42).get_n_splits(train_X)\n",
    "    rmse = np.sqrt(-cross_val_score(model, train_X, train_y, scoring=\"neg_mean_squared_error\", cv = kf))\n",
    "    return(rmse)"
   ]
  },
  {
   "cell_type": "markdown",
   "id": "6830813d",
   "metadata": {
    "papermill": {
     "duration": 0.098779,
     "end_time": "2022-03-02T17:19:18.564393",
     "exception": false,
     "start_time": "2022-03-02T17:19:18.465614",
     "status": "completed"
    },
    "tags": []
   },
   "source": [
    "**Base models**\n",
    "\n",
    "* **LASSO Regression** : this model may be very sensitive to outliers. So we need to make it more robust to them. For that we use the sklearn's Robustscaler() method with pipeline"
   ]
  },
  {
   "cell_type": "code",
   "execution_count": 43,
   "id": "ceea5746",
   "metadata": {
    "execution": {
     "iopub.execute_input": "2022-03-02T17:19:18.769191Z",
     "iopub.status.busy": "2022-03-02T17:19:18.768516Z",
     "iopub.status.idle": "2022-03-02T17:19:18.772555Z",
     "shell.execute_reply": "2022-03-02T17:19:18.773017Z",
     "shell.execute_reply.started": "2022-03-02T12:36:51.010025Z"
    },
    "papermill": {
     "duration": 0.10832,
     "end_time": "2022-03-02T17:19:18.773216",
     "exception": false,
     "start_time": "2022-03-02T17:19:18.664896",
     "status": "completed"
    },
    "tags": []
   },
   "outputs": [],
   "source": [
    "lasso = make_pipeline(RobustScaler(), Lasso(alpha =0.0005, random_state=1))"
   ]
  },
  {
   "cell_type": "markdown",
   "id": "632cc3c1",
   "metadata": {
    "papermill": {
     "duration": 0.098447,
     "end_time": "2022-03-02T17:19:18.970899",
     "exception": false,
     "start_time": "2022-03-02T17:19:18.872452",
     "status": "completed"
    },
    "tags": []
   },
   "source": [
    "* **Elastic Net Regression** : again made robust to outliers"
   ]
  },
  {
   "cell_type": "code",
   "execution_count": 44,
   "id": "c266d15f",
   "metadata": {
    "execution": {
     "iopub.execute_input": "2022-03-02T17:19:19.174868Z",
     "iopub.status.busy": "2022-03-02T17:19:19.174186Z",
     "iopub.status.idle": "2022-03-02T17:19:19.177053Z",
     "shell.execute_reply": "2022-03-02T17:19:19.176560Z",
     "shell.execute_reply.started": "2022-03-02T12:36:51.459592Z"
    },
    "papermill": {
     "duration": 0.107116,
     "end_time": "2022-03-02T17:19:19.177226",
     "exception": false,
     "start_time": "2022-03-02T17:19:19.070110",
     "status": "completed"
    },
    "tags": []
   },
   "outputs": [],
   "source": [
    "enet = make_pipeline(RobustScaler(), ElasticNet(alpha=0.0005, l1_ratio=0.9, random_state=3))"
   ]
  },
  {
   "cell_type": "markdown",
   "id": "1f4e03b5",
   "metadata": {
    "papermill": {
     "duration": 0.097824,
     "end_time": "2022-03-02T17:19:19.374189",
     "exception": false,
     "start_time": "2022-03-02T17:19:19.276365",
     "status": "completed"
    },
    "tags": []
   },
   "source": [
    "* **Gradient Boosting Regression** : with huber loss that makes it robust to outliers, hyper parameters were picked with gridsearchcv method"
   ]
  },
  {
   "cell_type": "code",
   "execution_count": 45,
   "id": "285a44e3",
   "metadata": {
    "execution": {
     "iopub.execute_input": "2022-03-02T17:19:19.577635Z",
     "iopub.status.busy": "2022-03-02T17:19:19.576977Z",
     "iopub.status.idle": "2022-03-02T17:19:19.579209Z",
     "shell.execute_reply": "2022-03-02T17:19:19.579716Z",
     "shell.execute_reply.started": "2022-03-02T15:58:03.117276Z"
    },
    "papermill": {
     "duration": 0.107375,
     "end_time": "2022-03-02T17:19:19.579880",
     "exception": false,
     "start_time": "2022-03-02T17:19:19.472505",
     "status": "completed"
    },
    "tags": []
   },
   "outputs": [],
   "source": [
    "gboost = GradientBoostingRegressor(n_estimators=3000, learning_rate=0.05,\n",
    "                                   max_features='sqrt', max_depth = 4,\n",
    "                                   loss='huber', random_state = 5,\n",
    "                                  min_samples_leaf = 15, min_samples_split = 10)"
   ]
  },
  {
   "cell_type": "markdown",
   "id": "f656c25d",
   "metadata": {
    "papermill": {
     "duration": 0.098521,
     "end_time": "2022-03-02T17:19:19.777495",
     "exception": false,
     "start_time": "2022-03-02T17:19:19.678974",
     "status": "completed"
    },
    "tags": []
   },
   "source": [
    "* **Kernel Ridge Regression** :"
   ]
  },
  {
   "cell_type": "code",
   "execution_count": 46,
   "id": "ee8668a0",
   "metadata": {
    "execution": {
     "iopub.execute_input": "2022-03-02T17:19:19.979546Z",
     "iopub.status.busy": "2022-03-02T17:19:19.978763Z",
     "iopub.status.idle": "2022-03-02T17:19:19.983109Z",
     "shell.execute_reply": "2022-03-02T17:19:19.983623Z",
     "shell.execute_reply.started": "2022-03-02T15:58:04.93671Z"
    },
    "papermill": {
     "duration": 0.107764,
     "end_time": "2022-03-02T17:19:19.983817",
     "exception": false,
     "start_time": "2022-03-02T17:19:19.876053",
     "status": "completed"
    },
    "tags": []
   },
   "outputs": [],
   "source": [
    "KRR = KernelRidge(alpha=0.6, kernel='polynomial', degree=2, coef0=2.5)"
   ]
  },
  {
   "cell_type": "markdown",
   "id": "303941f2",
   "metadata": {
    "papermill": {
     "duration": 0.102561,
     "end_time": "2022-03-02T17:19:20.189914",
     "exception": false,
     "start_time": "2022-03-02T17:19:20.087353",
     "status": "completed"
    },
    "tags": []
   },
   "source": [
    "* **Random Forest Regressor** : hyperparameters were picked with gridsearchcv method"
   ]
  },
  {
   "cell_type": "code",
   "execution_count": 47,
   "id": "77d7f90d",
   "metadata": {
    "execution": {
     "iopub.execute_input": "2022-03-02T17:19:20.390783Z",
     "iopub.status.busy": "2022-03-02T17:19:20.390090Z",
     "iopub.status.idle": "2022-03-02T17:19:20.394434Z",
     "shell.execute_reply": "2022-03-02T17:19:20.395116Z",
     "shell.execute_reply.started": "2022-03-02T15:58:05.776539Z"
    },
    "papermill": {
     "duration": 0.106567,
     "end_time": "2022-03-02T17:19:20.395326",
     "exception": false,
     "start_time": "2022-03-02T17:19:20.288759",
     "status": "completed"
    },
    "tags": []
   },
   "outputs": [],
   "source": [
    "random_fr = RandomForestRegressor(n_estimators = 2200, random_state = 10, \n",
    "                                  max_depth = 6, min_samples_split = 5, min_samples_leaf = 5)"
   ]
  },
  {
   "cell_type": "markdown",
   "id": "9b9c6850",
   "metadata": {
    "papermill": {
     "duration": 0.097926,
     "end_time": "2022-03-02T17:19:20.591708",
     "exception": false,
     "start_time": "2022-03-02T17:19:20.493782",
     "status": "completed"
    },
    "tags": []
   },
   "source": [
    "**Base models scores**\n",
    "\n",
    "let's see how these base models perform on the data by evaluating the cross-validation rmsle error"
   ]
  },
  {
   "cell_type": "code",
   "execution_count": 48,
   "id": "41b25ef2",
   "metadata": {
    "execution": {
     "iopub.execute_input": "2022-03-02T17:19:20.791523Z",
     "iopub.status.busy": "2022-03-02T17:19:20.790779Z",
     "iopub.status.idle": "2022-03-02T17:22:54.238952Z",
     "shell.execute_reply": "2022-03-02T17:22:54.239562Z",
     "shell.execute_reply.started": "2022-03-02T15:58:07.486349Z"
    },
    "papermill": {
     "duration": 213.549987,
     "end_time": "2022-03-02T17:22:54.239786",
     "exception": false,
     "start_time": "2022-03-02T17:19:20.689799",
     "status": "completed"
    },
    "tags": []
   },
   "outputs": [
    {
     "name": "stdout",
     "output_type": "stream",
     "text": [
      "mean cross validation error score of lasso: 0.1103\n",
      "mean cross validation error score of elastic net: 0.1102\n",
      "mean cross validation error score of gradient boosting: 0.1181\n",
      "mean cross validation error score of kernel ridge: 0.2838\n",
      "mean cross validation error score of random forest: 0.1487\n"
     ]
    }
   ],
   "source": [
    "score = rmsle(lasso)\n",
    "print(f'mean cross validation error score of lasso: {score.mean():.4f}')\n",
    "score = rmsle(enet)\n",
    "print(f'mean cross validation error score of elastic net: {score.mean():.4f}')\n",
    "score = rmsle(gboost)\n",
    "print(f'mean cross validation error score of gradient boosting: {score.mean():.4f}')\n",
    "score = rmsle(KRR)\n",
    "print(f'mean cross validation error score of kernel ridge: {score.mean():.4f}')\n",
    "score = rmsle(random_fr)\n",
    "print(f'mean cross validation error score of random forest: {score.mean():.4f}')"
   ]
  },
  {
   "cell_type": "code",
   "execution_count": 49,
   "id": "a7e8de43",
   "metadata": {
    "execution": {
     "iopub.execute_input": "2022-03-02T17:22:54.451192Z",
     "iopub.status.busy": "2022-03-02T17:22:54.450145Z",
     "iopub.status.idle": "2022-03-02T17:22:54.452772Z",
     "shell.execute_reply": "2022-03-02T17:22:54.452212Z",
     "shell.execute_reply.started": "2022-03-02T16:01:42.012286Z"
    },
    "papermill": {
     "duration": 0.109908,
     "end_time": "2022-03-02T17:22:54.452947",
     "exception": false,
     "start_time": "2022-03-02T17:22:54.343039",
     "status": "completed"
    },
    "tags": []
   },
   "outputs": [],
   "source": [
    "from sklearn.ensemble import StackingRegressor"
   ]
  },
  {
   "cell_type": "markdown",
   "id": "ab99a7df",
   "metadata": {
    "papermill": {
     "duration": 0.100887,
     "end_time": "2022-03-02T17:22:54.655701",
     "exception": false,
     "start_time": "2022-03-02T17:22:54.554814",
     "status": "completed"
    },
    "tags": []
   },
   "source": [
    "stacking basic models into one, base is lasso model"
   ]
  },
  {
   "cell_type": "code",
   "execution_count": 50,
   "id": "db100495",
   "metadata": {
    "execution": {
     "iopub.execute_input": "2022-03-02T17:22:54.865277Z",
     "iopub.status.busy": "2022-03-02T17:22:54.864572Z",
     "iopub.status.idle": "2022-03-02T17:22:54.868839Z",
     "shell.execute_reply": "2022-03-02T17:22:54.869296Z",
     "shell.execute_reply.started": "2022-03-02T16:01:44.666216Z"
    },
    "papermill": {
     "duration": 0.111175,
     "end_time": "2022-03-02T17:22:54.869464",
     "exception": false,
     "start_time": "2022-03-02T17:22:54.758289",
     "status": "completed"
    },
    "tags": []
   },
   "outputs": [],
   "source": [
    "estimators = [\n",
    "    ('lasso', lasso),\n",
    "    ('enet', enet),\n",
    "    ('krr', KRR),\n",
    "    ('gboost', gboost),\n",
    "    ('rf', random_fr)\n",
    "]\n",
    "\n",
    "fin = StackingRegressor(estimators = estimators, final_estimator = lasso, cv = 5)"
   ]
  },
  {
   "cell_type": "markdown",
   "id": "ab2f7343",
   "metadata": {
    "papermill": {
     "duration": 0.10136,
     "end_time": "2022-03-02T17:22:55.072898",
     "exception": false,
     "start_time": "2022-03-02T17:22:54.971538",
     "status": "completed"
    },
    "tags": []
   },
   "source": [
    "cross validation error of stacked model"
   ]
  },
  {
   "cell_type": "code",
   "execution_count": 51,
   "id": "483d654f",
   "metadata": {
    "execution": {
     "iopub.execute_input": "2022-03-02T17:22:55.278661Z",
     "iopub.status.busy": "2022-03-02T17:22:55.277989Z",
     "iopub.status.idle": "2022-03-02T17:41:26.682666Z",
     "shell.execute_reply": "2022-03-02T17:41:26.683413Z",
     "shell.execute_reply.started": "2022-03-02T16:01:45.79661Z"
    },
    "papermill": {
     "duration": 1111.510237,
     "end_time": "2022-03-02T17:41:26.683799",
     "exception": false,
     "start_time": "2022-03-02T17:22:55.173562",
     "status": "completed"
    },
    "tags": []
   },
   "outputs": [
    {
     "name": "stderr",
     "output_type": "stream",
     "text": [
      "/opt/conda/lib/python3.7/site-packages/sklearn/linear_model/_coordinate_descent.py:531: ConvergenceWarning: Objective did not converge. You might want to increase the number of iterations. Duality gap: 0.016983753201461838, tolerance: 0.015227603980034471\n",
      "  positive)\n"
     ]
    },
    {
     "name": "stdout",
     "output_type": "stream",
     "text": [
      "mean cross validation error score of stacked regression model: 0.1092\n"
     ]
    }
   ],
   "source": [
    "score_fin = rmsle(fin)\n",
    "print(f'mean cross validation error score of stacked regression model: {score_fin.mean():.4f}')"
   ]
  },
  {
   "cell_type": "markdown",
   "id": "4ea52107",
   "metadata": {
    "papermill": {
     "duration": 0.101676,
     "end_time": "2022-03-02T17:41:26.887704",
     "exception": false,
     "start_time": "2022-03-02T17:41:26.786028",
     "status": "completed"
    },
    "tags": []
   },
   "source": [
    "fitting train data into final stacked model"
   ]
  },
  {
   "cell_type": "code",
   "execution_count": 52,
   "id": "b30805d8",
   "metadata": {
    "execution": {
     "iopub.execute_input": "2022-03-02T17:41:27.097526Z",
     "iopub.status.busy": "2022-03-02T17:41:27.096787Z",
     "iopub.status.idle": "2022-03-02T17:45:51.744783Z",
     "shell.execute_reply": "2022-03-02T17:45:51.745379Z",
     "shell.execute_reply.started": "2022-03-02T16:19:33.064465Z"
    },
    "papermill": {
     "duration": 264.75461,
     "end_time": "2022-03-02T17:45:51.745613",
     "exception": false,
     "start_time": "2022-03-02T17:41:26.991003",
     "status": "completed"
    },
    "tags": []
   },
   "outputs": [
    {
     "name": "stdout",
     "output_type": "stream",
     "text": [
      "mean squared error: 0.006527470023797142\n"
     ]
    }
   ],
   "source": [
    "fin.fit(train_X, train_y)\n",
    "\n",
    "y_pred_train = fin.predict(train_X)\n",
    "print('mean squared error:', mean_squared_error(train_y, y_pred_train))"
   ]
  },
  {
   "cell_type": "markdown",
   "id": "fd38a9b6",
   "metadata": {
    "papermill": {
     "duration": 0.102288,
     "end_time": "2022-03-02T17:45:51.952655",
     "exception": false,
     "start_time": "2022-03-02T17:45:51.850367",
     "status": "completed"
    },
    "tags": []
   },
   "source": [
    "predicting values for test data and using exmp1, because need to revert from log"
   ]
  },
  {
   "cell_type": "code",
   "execution_count": 53,
   "id": "8d591009",
   "metadata": {
    "execution": {
     "iopub.execute_input": "2022-03-02T17:45:52.168435Z",
     "iopub.status.busy": "2022-03-02T17:45:52.167763Z",
     "iopub.status.idle": "2022-03-02T17:45:52.792921Z",
     "shell.execute_reply": "2022-03-02T17:45:52.792245Z",
     "shell.execute_reply.started": "2022-03-02T16:23:49.187642Z"
    },
    "papermill": {
     "duration": 0.737564,
     "end_time": "2022-03-02T17:45:52.793063",
     "exception": false,
     "start_time": "2022-03-02T17:45:52.055499",
     "status": "completed"
    },
    "tags": []
   },
   "outputs": [],
   "source": [
    "values = np.expm1(fin.predict(test_X))"
   ]
  },
  {
   "cell_type": "markdown",
   "id": "3b6cde40",
   "metadata": {
    "papermill": {
     "duration": 0.101065,
     "end_time": "2022-03-02T17:45:52.996417",
     "exception": false,
     "start_time": "2022-03-02T17:45:52.895352",
     "status": "completed"
    },
    "tags": []
   },
   "source": [
    "getting submission file"
   ]
  },
  {
   "cell_type": "code",
   "execution_count": 54,
   "id": "7319ad54",
   "metadata": {
    "execution": {
     "iopub.execute_input": "2022-03-02T17:45:53.210082Z",
     "iopub.status.busy": "2022-03-02T17:45:53.209099Z",
     "iopub.status.idle": "2022-03-02T17:45:53.215660Z",
     "shell.execute_reply": "2022-03-02T17:45:53.216171Z",
     "shell.execute_reply.started": "2022-03-02T16:23:49.863467Z"
    },
    "papermill": {
     "duration": 0.117312,
     "end_time": "2022-03-02T17:45:53.216368",
     "exception": false,
     "start_time": "2022-03-02T17:45:53.099056",
     "status": "completed"
    },
    "tags": []
   },
   "outputs": [],
   "source": [
    "sub = pd.DataFrame()\n",
    "sub['Id'] = test_Id\n",
    "sub['SalePrice'] = values"
   ]
  },
  {
   "cell_type": "code",
   "execution_count": 55,
   "id": "269a8706",
   "metadata": {
    "execution": {
     "iopub.execute_input": "2022-03-02T17:45:53.429673Z",
     "iopub.status.busy": "2022-03-02T17:45:53.428737Z",
     "iopub.status.idle": "2022-03-02T17:45:53.442884Z",
     "shell.execute_reply": "2022-03-02T17:45:53.443381Z",
     "shell.execute_reply.started": "2022-03-02T16:23:49.872849Z"
    },
    "papermill": {
     "duration": 0.122976,
     "end_time": "2022-03-02T17:45:53.443562",
     "exception": false,
     "start_time": "2022-03-02T17:45:53.320586",
     "status": "completed"
    },
    "tags": []
   },
   "outputs": [],
   "source": [
    "sub.to_csv('submission.csv',index=False)"
   ]
  }
 ],
 "metadata": {
  "kernelspec": {
   "display_name": "Python 3",
   "language": "python",
   "name": "python3"
  },
  "language_info": {
   "codemirror_mode": {
    "name": "ipython",
    "version": 3
   },
   "file_extension": ".py",
   "mimetype": "text/x-python",
   "name": "python",
   "nbconvert_exporter": "python",
   "pygments_lexer": "ipython3",
   "version": "3.7.12"
  },
  "papermill": {
   "default_parameters": {},
   "duration": 1627.982564,
   "end_time": "2022-03-02T17:45:54.467604",
   "environment_variables": {},
   "exception": null,
   "input_path": "__notebook__.ipynb",
   "output_path": "__notebook__.ipynb",
   "parameters": {},
   "start_time": "2022-03-02T17:18:46.485040",
   "version": "2.3.3"
  }
 },
 "nbformat": 4,
 "nbformat_minor": 5
}
